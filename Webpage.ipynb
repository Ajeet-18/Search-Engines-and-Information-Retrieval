{
  "nbformat": 4,
  "nbformat_minor": 0,
  "metadata": {
    "colab": {
      "provenance": [],
      "authorship_tag": "ABX9TyNpfVKZ5yP3YI6TTCvP7FoF",
      "include_colab_link": true
    },
    "kernelspec": {
      "name": "python3",
      "display_name": "Python 3"
    },
    "language_info": {
      "name": "python"
    }
  },
  "cells": [
    {
      "cell_type": "markdown",
      "metadata": {
        "id": "view-in-github",
        "colab_type": "text"
      },
      "source": [
        "<a href=\"https://colab.research.google.com/github/Ajeet-18/Search-Engines-and-Information-Retrieval/blob/main/Webpage.ipynb\" target=\"_parent\"><img src=\"https://colab.research.google.com/assets/colab-badge.svg\" alt=\"Open In Colab\"/></a>"
      ]
    },
    {
      "cell_type": "code",
      "execution_count": 1,
      "metadata": {
        "id": "1_oLr_ah5eJ_"
      },
      "outputs": [],
      "source": [
        "import requests"
      ]
    },
    {
      "cell_type": "code",
      "source": [
        "import re"
      ],
      "metadata": {
        "id": "InQtfbbIBwN7"
      },
      "execution_count": 2,
      "outputs": []
    },
    {
      "cell_type": "code",
      "source": [
        "def get_html_content(url):\n",
        "    try:\n",
        "        response = requests.get(url)\n",
        "        response.raise_for_status()  # Raises an HTTPError for bad responses\n",
        "        return response.text\n",
        "    except requests.RequestException as e:\n",
        "        print(f\"Error: {e}\")\n",
        "        return None"
      ],
      "metadata": {
        "id": "_oMhWs1w-Fu8"
      },
      "execution_count": 3,
      "outputs": []
    },
    {
      "cell_type": "code",
      "source": [
        "def get_title(html_content):\n",
        "    match = re.search(r'<title>(.*?)</title>', html_content, re.DOTALL | re.IGNORECASE)\n",
        "    return match.group(1).strip() if match else None"
      ],
      "metadata": {
        "id": "zfKIkeru-Jdb"
      },
      "execution_count": 4,
      "outputs": []
    },
    {
      "cell_type": "code",
      "source": [
        "def get_body(html_content):\n",
        "    paragraphs = re.findall(r'<p.*?>(.*?)</p>', html_content, re.DOTALL | re.IGNORECASE)\n",
        "    return [re.sub(r'<.*?>', '', p).strip() for p in paragraphs]"
      ],
      "metadata": {
        "id": "FJZ73uHB-MNa"
      },
      "execution_count": 5,
      "outputs": []
    },
    {
      "cell_type": "code",
      "source": [
        "def get_links(html_content):\n",
        "    links = re.findall(r'href=[\"\\'](https?://[^\"\\']+)[\"\\']', html_content)\n",
        "    return links"
      ],
      "metadata": {
        "id": "M-byyq8s-O-Q"
      },
      "execution_count": 6,
      "outputs": []
    },
    {
      "cell_type": "code",
      "source": [
        "def main():\n",
        "    url = input(\"Enter your URL with https://\")\n",
        "    html_content = get_html_content(url)\n",
        "\n",
        "    if html_content is not None:\n",
        "        option = input(\"What do you want to see on the website? (1: Title, 2: Body, 3: Links): \")\n",
        "\n",
        "        if option == '1':\n",
        "            title = get_title(html_content)\n",
        "            print(f\"Title: {title}\" if title else \"No title found.\")\n",
        "        elif option == '2':\n",
        "            body = get_body(html_content)\n",
        "            print(\"\\n\".join(body) if body else \"No body content found.\")\n",
        "        elif option == '3':\n",
        "            links = get_links(html_content)\n",
        "            print(\"\\n\".join(links) if links else \"No links found.\")\n",
        "        else:\n",
        "            print(\"Invalid option. Please enter 1, 2, or 3.\")"
      ],
      "metadata": {
        "id": "o23nck71-Vo4"
      },
      "execution_count": 7,
      "outputs": []
    },
    {
      "cell_type": "code",
      "source": [
        "if __name__ == \"__main__\":\n",
        "    main()"
      ],
      "metadata": {
        "colab": {
          "base_uri": "https://localhost:8080/"
        },
        "id": "dgSJzCP7-af0",
        "outputId": "4b46a6df-3c0c-4d18-b8c1-847bcda86d83"
      },
      "execution_count": 20,
      "outputs": [
        {
          "output_type": "stream",
          "name": "stdout",
          "text": [
            "Enter your URL with https://https://en.wikipedia.org/wiki/Amit_Singhal\n",
            "What do you want to see on the website? (1: Title, 2: Body, 3: Links): 1\n",
            "Title: Amit Singhal - Wikipedia\n"
          ]
        }
      ]
    },
    {
      "cell_type": "code",
      "source": [
        "if __name__ == \"__main__\":\n",
        "    main()"
      ],
      "metadata": {
        "colab": {
          "base_uri": "https://localhost:8080/"
        },
        "id": "hnjiuGwXEiDn",
        "outputId": "0deefddd-70b7-49a8-b758-88a1acb9f7a8"
      },
      "execution_count": 22,
      "outputs": [
        {
          "output_type": "stream",
          "name": "stdout",
          "text": [
            "Enter your URL with https://https://en.wikipedia.org/wiki/Amit_Singhal\n",
            "What do you want to see on the website? (1: Title, 2: Body, 3: Links): 2\n",
            "\n",
            "Amitabh Kumar \"Amit\" Singhal (born September 1968) is a former senior vice president at Google Inc., having been a Google Fellow and the head of Google's Search team for 15 years.&#91;5&#93;&#91;6&#93;\n",
            "Born in Jhansi, a city in the state of Uttar Pradesh, India,&#91;7&#93; Singhal received a Bachelor of Engineering degree in computer science from IIT Roorkee in 1989.&#91;8&#93; He continued his computer science education in the United States, and received an M.S. degree from University of Minnesota Duluth in 1991.&#91;9&#93; He wrote about his time at the University of Minnesota Duluth:\n",
            "UMD was the turning point in my life. Studying Information Retrieval with Don Crouch and then Don recommending that I move to Cornell to study with Gerard Salton, is the main reason behind my success today. Don gave me the love for search, I have just followed my passion ever since.&#91;9&#93;\n",
            "Singhal continued his studies at Cornell University in Ithaca, New York, and received a Ph.D. degree in 1996.&#91;9&#93; At Cornell, Singhal studied with Gerard Salton, a pioneer in the field of information retrieval, the academic discipline which forms the foundation of modern search. John Battelle, in his book The Search, calls Gerard Salton \"the father of digital search.\" After getting a Ph.D. in 1996, Singhal joined AT&amp;T Labs (previously a part of Bell Labs), where he continued his research in information retrieval, speech retrieval and other related fields.&#91;9&#93;\n",
            "He left Google on 26 February 2016, following sexual-harassment allegations.&#91;10&#93;&#91;11&#93;&#91;12&#93;&#91;13&#93;\n",
            "He later joined Uber as Senior Vice President of software engineering in 2017 but was asked to resign for failing to disclose the reason for his resignation from Google.&#91;14&#93;&#91;15&#93;&#91;16&#93; It was later revealed that Google paid him $35 Million as his exit package.&#91;17&#93;&#91;18&#93;\n",
            "In 2000, he was recruited by friend Krishna Bharat to join Google.&#91;9&#93; Singhal ran Google's core search quality department where he and his team were responsible for the Google search algorithms. According to The New York Times, Singhal was the \"master\" of Google's ranking algorithm – the formulas that decide which Web pages best answer each user's question.&#91;19&#93; As a reward for his rewrite of the search engine in 2001, Singhal was named a \"Google Fellow\".&#91;20&#93; Singhal served as the head of Google's core search ranking team&#91;5&#93;&#91;6&#93; until his retirement announced on 26 February 2016.&#91;11&#93;\n",
            "In 2017, he joined Uber as SVP of engineering, reporting to CEO Travis Kalanick, and with his fellow Google alum Kevin Thompson operating as SVP of marketplace engineering.&#91;21&#93;\n",
            "In 2011 he was inducted as a Fellow of the Association for Computing Machinery.&#91;22&#93;&#91;23&#93;\n",
            "Fortune named Singhal one of the smartest people in tech.&#91;24&#93;\n",
            "In 2011, Singhal was given the Outstanding Achievement in Science and Technology Award at The Asian Awards.&#91;25&#93;\n",
            "He was elected member of the National Academy of Engineering.\n"
          ]
        }
      ]
    },
    {
      "cell_type": "code",
      "source": [
        "if __name__ == \"__main__\":\n",
        "    main()"
      ],
      "metadata": {
        "colab": {
          "base_uri": "https://localhost:8080/"
        },
        "id": "2yI1D5QfEk51",
        "outputId": "468d104e-be37-43ed-ba3e-bdf4a950e365"
      },
      "execution_count": 23,
      "outputs": [
        {
          "output_type": "stream",
          "name": "stdout",
          "text": [
            "Enter your URL with https://https://en.wikipedia.org/wiki/Amit_Singhal\n",
            "What do you want to see on the website? (1: Title, 2: Body, 3: Links): 3\n",
            "https://en.wikipedia.org/wiki/Amit_Singhal\n",
            "https://creativecommons.org/licenses/by-sa/4.0/deed.en\n",
            "https://donate.wikimedia.org/wiki/Special:FundraiserRedirector?utm_source=donate&amp;utm_medium=sidebar&amp;utm_campaign=C13_en.wikipedia.org&amp;uselang=en\n",
            "https://fr.wikipedia.org/wiki/Amit_Singhal\n",
            "https://ko.wikipedia.org/wiki/%EC%95%84%EB%B0%8B_%EC%8B%B1%ED%95%A0\n",
            "https://kk.wikipedia.org/wiki/%D0%90%D0%BC%D0%B8%D1%82_%D0%A1%D0%B8%D0%BD%D0%B3%D1%85%D0%B0%D0%BB\n",
            "https://ru.wikipedia.org/wiki/%D0%A1%D0%B8%D0%BD%D0%B3%D1%85%D0%B0%D0%BB,_%D0%90%D0%BC%D0%B8%D1%82\n",
            "https://sh.wikipedia.org/wiki/Amit_Singhal\n",
            "https://zh.wikipedia.org/wiki/%E9%98%BF%E7%B1%B3%E7%89%B9%C2%B7%E8%BE%9B%E6%A0%BC%E5%B0%94\n",
            "https://www.wikidata.org/wiki/Special:EntityPage/Q2843566#sitelinks-wikipedia\n",
            "https://www.wikidata.org/wiki/Special:EntityPage/Q2843566\n",
            "https://commons.wikimedia.org/wiki/Category:Amit_Singhal\n",
            "http://search.proquest.com/docview/304344927/\n",
            "http://singhal.info/\n",
            "https://www.cs.cornell.edu/people/students/alumnibyyear\n",
            "https://www.proquest.com/docview/304344927/\n",
            "https://ecommons.cornell.edu/bitstream/handle/1813/7281/97-1626.pdf;jsessionid=F3610A236DC6830534D794903A32343B?sequence=1\n",
            "http://www.ibnlive.com/news/tech/amit-singhal-from-jhansi-to-google-1198878.html\n",
            "http://www.businessweek.com/the_thread/techbeat/archives/2009/10/google_search_g.html\n",
            "https://web.archive.org/web/20100417023303/http://www.businessweek.com/the_thread/techbeat/archives/2009/10/google_search_g.html\n",
            "https://www.theguardian.com/technology/2013/jan/19/google-search-knowledge-graph-singhal-interview\n",
            "https://hdl.handle.net/1813%2F7281\n",
            "http://www.d.umn.edu/scse/newsandevents/academy/2009.html\n",
            "https://web.archive.org/web/20110717164617/http://www.d.umn.edu/scse/newsandevents/academy/2009.html\n",
            "http://www.d.umn.edu/~tcolburn/newsletter/CS_Newsletter_2007.pdf\n",
            "https://web.archive.org/web/20121006075621/http://www.d.umn.edu/~tcolburn/newsletter/CS_Newsletter_2007.pdf\n",
            "https://www.financialexpress.com/industry/technology/google-paid-35-million-to-indian-origin-executive-amit-singhal-who-quit-over-harassment-charges/1513815/\n",
            "https://www.nytimes.com/2016/02/04/technology/amit-singhal-an-influential-engineer-at-google-will-retire.html\n",
            "https://www.theverge.com/2019/3/11/18260712/google-amit-singhal-andy-rubin-payout-lawsuit-accused-sexual-harassment\n",
            "https://www.cbsnews.com/news/google-paid-35million-former-executive-amit-singhal-accused-sexual-harassment/\n",
            "https://www.recode.net/2017/2/27/14745360/amit-singhal-google-uber\n",
            "https://techcrunch.com/2017/01/20/uber-hires-former-google-search-chief-amit-singhal-as-svp-of-engineering/\n",
            "https://www.reuters.com/article/us-uber-hire-idUSKBN1542ML\n",
            "https://www.theguardian.com/technology/2019/mar/11/google-executive-payout-harassment-amit-singhal\n",
            "https://qz.com/920538/uber-fired-svp-of-engineer-amit-singhal-for-covering-up-allegations-of-sexual-harassment/\n",
            "https://www.nytimes.com/2007/06/03/business/yourmoney/03google.html\n",
            "https://web.archive.org/web/20230614230054/https://www.nytimes.com/2007/06/03/business/yourmoney/03google.html?\n",
            "https://www.wired.com/magazine/2010/02/ff_google_algorithm/all/1\n",
            "https://www.techcrunch.com/2017/01/20/uber-hires-former-youtube-exec-kevin-thompson-as-vp-of-marketplace-engineering/\n",
            "http://fellows.acm.org/fellow_citation.cfm?id=3910767&amp;srt=year&amp;year=2011\n",
            "http://www.rediff.com/us/amitsinghal_top50.html\n",
            "https://money.cnn.com/galleries/2010/technology/1007/gallery.smartest_people_tech.fortune/24.html\n",
            "https://web.archive.org/web/20100712083736/https://money.cnn.com/galleries/2010/technology/1007/gallery.smartest_people_tech.fortune/24.html\n",
            "http://www.homeoffice.gov.uk/media-centre/news/asian-awards\n",
            "http://singhal.info\n",
            "https://commons.wikimedia.org/wiki/Category:Google\n",
            "https://www.wikidata.org/wiki/Q2843566#identifiers\n",
            "https://dl.acm.org/profile/81100064217\n",
            "https://dblp.org/pid/s/AmitSinghal\n",
            "https://en.wikipedia.org/w/index.php?title=Amit_Singhal&amp;oldid=1195864744\n",
            "https://foundation.wikimedia.org/wiki/Special:MyLanguage/Policy:Privacy_policy\n",
            "https://foundation.wikimedia.org/wiki/Special:MyLanguage/Policy:Universal_Code_of_Conduct\n",
            "https://developer.wikimedia.org\n",
            "https://stats.wikimedia.org/#/en.wikipedia.org\n",
            "https://foundation.wikimedia.org/wiki/Special:MyLanguage/Policy:Cookie_statement\n",
            "https://wikimediafoundation.org/\n",
            "https://www.mediawiki.org/\n"
          ]
        }
      ]
    },
    {
      "cell_type": "code",
      "source": [
        "if __name__ == \"__main__\":\n",
        "    main()"
      ],
      "metadata": {
        "colab": {
          "base_uri": "https://localhost:8080/"
        },
        "id": "Yfqea8dMGOaW",
        "outputId": "c5b9ded1-04c5-4367-c1f6-f26b8de6c32a"
      },
      "execution_count": 24,
      "outputs": [
        {
          "output_type": "stream",
          "name": "stdout",
          "text": [
            "Enter your URL with https://https://www.linkedin.com/feed/update/urn:li:activity:7155585340932530176/\n",
            "What do you want to see on the website? (1: Title, 2: Body, 3: Links): 1\n",
            "Title: Preeti Shukla on LinkedIn: Hello everyone,\n",
            "\n",
            "Today, I want to address the topic of toxic language and…\n"
          ]
        }
      ]
    },
    {
      "cell_type": "code",
      "source": [
        "if __name__ == \"__main__\":\n",
        "    main()"
      ],
      "metadata": {
        "colab": {
          "base_uri": "https://localhost:8080/"
        },
        "id": "41jE49dzGUin",
        "outputId": "e87d16e8-e368-4c9e-ea76-2699266d1036"
      },
      "execution_count": 25,
      "outputs": [
        {
          "output_type": "stream",
          "name": "stdout",
          "text": [
            "Enter your URL with https://https://www.linkedin.com/feed/update/urn:li:activity:7155585340932530176/\n",
            "What do you want to see on the website? (1: Title, 2: Body, 3: Links): 2\n",
            "Agree & Join LinkedIn\n",
            "By clicking Continue, you agree to LinkedIn’s User Agreement, Privacy Policy, and Cookie Policy.\n",
            "Trainer-Professional Communication, Spoken English\n",
            "Hello everyone,\n",
            "\n",
            "Today, I want to address the topic of toxic language and behavior. I'm aware that the term 'toxicity' is frequently used, sometimes inaccurately, to describe minor issues. However, I'd like to focus on genuine instances of toxicity. With over two decades of work experience and nearly two additional decades of life, I've encountered my share of toxic individuals. There's a tendency to mistake any form of discipline or adherence to rules as toxicity, and at times, we might not even realize when we're being subjected to it.\n",
            "\n",
            "Toxicity in the workplace or in personal relationships is a serious matter that can have long-lasting psychological effects on individuals.\n",
            "\n",
            "From monitoring washroom breaks to passing judgment on individuals for taking their allotted leaves, to engaging in surveillance on employees, to providing inadequate salaries and withholding increments under the pretext of 'poor performance' or 'lack of dedication'—these are instances of workplace toxicity. It's important to note that not all workplaces are the same. While acknowledging my personal encounters with toxic individuals, professionally, I must emphasize that I've also had a significantly greater share of positive experiences with supportive bosses and colleagues.\n",
            "\n",
            "Toxic people, in my opinion, are individuals who are either insecure or are suffering from some kind of superiority complex. They derive pleasure from making others' lives miserable.\n",
            "\n",
            "What they don't understand is, 'What goes around, comes around'. It will come back to you, for sure.\n",
            "\n",
            "So, this is for everyone out there:  Even if you were treated badly, you must break the chain of bad behaviour. Even if you think, you are better than others, always remember to be humble. Even if you were wronged, try doing the right thing at least the first time. I don’t say that you should tolerate bad behaviour, but try not being the one to initiate it. You never know how your behaviour affects people, you never know what anyone is going through, you never know what lives they have lived. \n",
            "\n",
            "Try being kind!! Acchha lagta hai\n",
            "Education is life itself!\n",
            "Thanks a lot for saying this very very important point! We Indians are too tolerant of bad behaviour. Needs to change.\n",
            "Data Science | Cloud Computing | Data Engineering | AI | ML | 2X Google Certified\n",
            "If I could highlight, this is the piece --\n",
            "\n",
            "\"From monitoring washroom breaks to passing judgment on individuals for taking their allotted leaves, to engaging in surveillance on employees, to providing inadequate salaries and withholding increments under the pretext of 'poor performance' or 'lack of dedication'—these are instances of workplace toxicity.\"\n",
            "To view or add a comment, sign in\n",
            "Trainer-Professional Communication, Spoken English\n",
            "HenryHarvin Learning #henryharvincustomercare #henryharvinmanagement \n",
            "\n",
            "Dear Team Henry Harvin,\n",
            "\n",
            "I am super annoyed at your customer care, your learning consultants and everyone else except the trainer. I have given you great reviews in the past and continued to do more courses just because of my great experience. However, now I believe I made a big mistake. The learning consultant assigned to me was interested in only getting money from me. She doesn’t respond to my texts even after seeing them. When she had to take payment she would respond even at 11 pm. I am not revealing the name here because I don’t want to stoop that low. \n",
            "\n",
            "My previous learning consultant was an amazing person. I am sorry to say that I feel stuck with HH now. \n",
            "\n",
            "Utterly disappointed!\n",
            "To view or add a comment, sign in\n",
            "Trainer-Professional Communication, Spoken English\n",
            "Amit Singhal is #hiring. Know anyone who might be interested?\n",
            "To view or add a comment, sign in\n",
            "459 followers\n",
            "\n"
          ]
        }
      ]
    },
    {
      "cell_type": "code",
      "source": [
        "if __name__ == \"__main__\":\n",
        "    main()"
      ],
      "metadata": {
        "colab": {
          "base_uri": "https://localhost:8080/"
        },
        "id": "a3sPVxP9GVaQ",
        "outputId": "730a3255-ffb6-4b0b-9bdd-f7157cf8b659"
      },
      "execution_count": 26,
      "outputs": [
        {
          "output_type": "stream",
          "name": "stdout",
          "text": [
            "Enter your URL with https://https://www.linkedin.com/feed/update/urn:li:activity:7155585340932530176/\n",
            "What do you want to see on the website? (1: Title, 2: Body, 3: Links): 3\n",
            "https://www.linkedin.com/posts/preeti-shukla-3756268_hello-everyone-today-i-want-to-address-activity-7155585340932530176-8XZ8\n",
            "https://static.licdn.com/aero-v1/sc/h/al2o9zrvru7aqj8e1x2rzsrca\n",
            "https://static.licdn.com/aero-v1/sc/h/6kf0wrjl261bzjsvpbssyz0a5\n",
            "https://www.linkedin.com/pulse/topics/home/?trk=public_post_guest_nav_menu_articles\n",
            "https://www.linkedin.com/pub/dir/+/+?trk=public_post_guest_nav_menu_people\n",
            "https://www.linkedin.com/learning/search?trk=public_post_guest_nav_menu_learning\n",
            "https://www.linkedin.com/jobs/search?trk=public_post_guest_nav_menu_jobs\n",
            "https://www.linkedin.com/signup/cold-join?session_redirect=https%3A%2F%2Fwww%2Elinkedin%2Ecom%2Fposts%2Fpreeti-shukla-3756268_hello-everyone-today-i-want-to-address-activity-7155585340932530176-8XZ8&amp;trk=public_post_nav-header-join\n",
            "https://www.linkedin.com/login?session_redirect=https%3A%2F%2Fwww%2Elinkedin%2Ecom%2Fposts%2Fpreeti-shukla-3756268_hello-everyone-today-i-want-to-address-activity-7155585340932530176-8XZ8&amp;fromSignIn=true&amp;trk=public_post_nav-header-signin\n",
            "https://in.linkedin.com/in/preeti-shukla-3756268?trk=public_post_feed-actor-image\n",
            "https://in.linkedin.com/in/preeti-shukla-3756268?trk=public_post_feed-actor-name\n",
            "https://www.linkedin.com/signup/cold-join?session_redirect=https%3A%2F%2Fwww%2Elinkedin%2Ecom%2Fposts%2Fpreeti-shukla-3756268_hello-everyone-today-i-want-to-address-activity-7155585340932530176-8XZ8&amp;trk=public_post_social-actions-reactions\n",
            "https://www.linkedin.com/signup/cold-join?session_redirect=https%3A%2F%2Fwww%2Elinkedin%2Ecom%2Fposts%2Fpreeti-shukla-3756268_hello-everyone-today-i-want-to-address-activity-7155585340932530176-8XZ8&amp;trk=public_post_social-actions-comments\n",
            "https://www.linkedin.com/signup/cold-join?session_redirect=https%3A%2F%2Fwww%2Elinkedin%2Ecom%2Fposts%2Fpreeti-shukla-3756268_hello-everyone-today-i-want-to-address-activity-7155585340932530176-8XZ8&amp;trk=public_post_like-cta\n",
            "https://www.linkedin.com/signup/cold-join?session_redirect=https%3A%2F%2Fwww%2Elinkedin%2Ecom%2Fposts%2Fpreeti-shukla-3756268_hello-everyone-today-i-want-to-address-activity-7155585340932530176-8XZ8&amp;trk=public_post_comment-cta\n",
            "https://in.linkedin.com/in/kushal-shah-95b9a3b?trk=public_post_comment_actor-image\n",
            "https://in.linkedin.com/in/kushal-shah-95b9a3b?trk=public_post_comment_actor-name\n",
            "https://www.linkedin.com/signup/cold-join?session_redirect=https%3A%2F%2Fwww%2Elinkedin%2Ecom%2Fposts%2Fpreeti-shukla-3756268_hello-everyone-today-i-want-to-address-activity-7155585340932530176-8XZ8&amp;trk=public_post_comment_like\n",
            "https://www.linkedin.com/signup/cold-join?session_redirect=https%3A%2F%2Fwww%2Elinkedin%2Ecom%2Fposts%2Fpreeti-shukla-3756268_hello-everyone-today-i-want-to-address-activity-7155585340932530176-8XZ8&amp;trk=public_post_comment_reply\n",
            "https://www.linkedin.com/signup/cold-join?session_redirect=https%3A%2F%2Fwww%2Elinkedin%2Ecom%2Fposts%2Fpreeti-shukla-3756268_hello-everyone-today-i-want-to-address-activity-7155585340932530176-8XZ8&amp;trk=public_post_comment_reactions\n",
            "https://in.linkedin.com/in/dhananjay-kimothi?trk=public_post_comment_actor-image\n",
            "https://in.linkedin.com/in/dhananjay-kimothi?trk=public_post_comment_actor-name\n",
            "https://www.linkedin.com/signup/cold-join?session_redirect=https%3A%2F%2Fwww%2Elinkedin%2Ecom%2Fposts%2Fpreeti-shukla-3756268_hello-everyone-today-i-want-to-address-activity-7155585340932530176-8XZ8&amp;trk=public_post_comment_like\n",
            "https://www.linkedin.com/signup/cold-join?session_redirect=https%3A%2F%2Fwww%2Elinkedin%2Ecom%2Fposts%2Fpreeti-shukla-3756268_hello-everyone-today-i-want-to-address-activity-7155585340932530176-8XZ8&amp;trk=public_post_comment_reply\n",
            "https://www.linkedin.com/signup/cold-join?session_redirect=https%3A%2F%2Fwww%2Elinkedin%2Ecom%2Fposts%2Fpreeti-shukla-3756268_hello-everyone-today-i-want-to-address-activity-7155585340932530176-8XZ8&amp;trk=public_post_comment_reactions\n",
            "https://www.linkedin.com/signup/cold-join?session_redirect=https%3A%2F%2Fwww%2Elinkedin%2Ecom%2Fposts%2Fpreeti-shukla-3756268_hello-everyone-today-i-want-to-address-activity-7155585340932530176-8XZ8&amp;trk=public_post_see-more-comments\n",
            "https://www.linkedin.com/signup/cold-join?session_redirect=https%3A%2F%2Fwww%2Elinkedin%2Ecom%2Fposts%2Fpreeti-shukla-3756268_hello-everyone-today-i-want-to-address-activity-7155585340932530176-8XZ8&trk=public_post_feed-cta-banner-cta\n",
            "https://www.linkedin.com/posts/preeti-shukla-3756268_henryharvincustomercare-henryharvinmanagement-activity-7135932167200649216-_xE2\n",
            "https://in.linkedin.com/in/preeti-shukla-3756268?trk=public_post_main-feed-card_feed-actor-image\n",
            "https://in.linkedin.com/in/preeti-shukla-3756268?trk=public_post_main-feed-card_feed-actor-name\n",
            "https://www.linkedin.com/company/henryharvin-learning?trk=public_post_main-feed-card-text\n",
            "https://www.linkedin.com/signup/cold-join?session_redirect=https%3A%2F%2Fwww.linkedin.com%2Ffeed%2Fhashtag%2Fhenryharvincustomercare&amp;trk=public_post_main-feed-card-text\n",
            "https://www.linkedin.com/signup/cold-join?session_redirect=https%3A%2F%2Fwww.linkedin.com%2Ffeed%2Fhashtag%2Fhenryharvinmanagement&amp;trk=public_post_main-feed-card-text\n",
            "https://www.linkedin.com/signup/cold-join?session_redirect=https%3A%2F%2Fwww.linkedin.com%2Fposts%2Fpreeti-shukla-3756268_henryharvincustomercare-henryharvinmanagement-activity-7135932167200649216-_xE2&amp;trk=public_post_main-feed-card_social-actions-reactions\n",
            "https://www.linkedin.com/signup/cold-join?session_redirect=https%3A%2F%2Fwww.linkedin.com%2Fposts%2Fpreeti-shukla-3756268_henryharvincustomercare-henryharvinmanagement-activity-7135932167200649216-_xE2&amp;trk=public_post_main-feed-card_like-cta\n",
            "https://www.linkedin.com/signup/cold-join?session_redirect=https%3A%2F%2Fwww.linkedin.com%2Fposts%2Fpreeti-shukla-3756268_henryharvincustomercare-henryharvinmanagement-activity-7135932167200649216-_xE2&amp;trk=public_post_main-feed-card_comment-cta\n",
            "https://www.linkedin.com/signup/cold-join?session_redirect=https%3A%2F%2Fwww.linkedin.com%2Fposts%2Fpreeti-shukla-3756268_henryharvincustomercare-henryharvinmanagement-activity-7135932167200649216-_xE2&trk=public_post_main-feed-card_feed-cta-banner-cta\n",
            "https://www.linkedin.com/posts/preeti-shukla-3756268_hiring-activity-7135478741039800320-fB4x\n",
            "https://in.linkedin.com/in/preeti-shukla-3756268?trk=public_post_main-feed-card_feed-actor-image\n",
            "https://in.linkedin.com/in/preeti-shukla-3756268?trk=public_post_main-feed-card_feed-actor-name\n",
            "https://www.linkedin.com/signup/cold-join?session_redirect=https%3A%2F%2Fwww.linkedin.com%2Ffeed%2Fhashtag%2Fhiring&amp;trk=public_post_main-feed-card-text\n",
            "https://in.linkedin.com/jobs/view/computer-science-faculty-at-sitare-university-3761606355?trk=public_post_main-feed-card_feed-job-posting-content\n",
            "https://www.linkedin.com/signup/cold-join?session_redirect=https%3A%2F%2Fwww.linkedin.com%2Fposts%2Fpreeti-shukla-3756268_hiring-activity-7135478741039800320-fB4x&amp;trk=public_post_main-feed-card_social-actions-reactions\n",
            "https://www.linkedin.com/signup/cold-join?session_redirect=https%3A%2F%2Fwww.linkedin.com%2Fposts%2Fpreeti-shukla-3756268_hiring-activity-7135478741039800320-fB4x&amp;trk=public_post_main-feed-card_like-cta\n",
            "https://www.linkedin.com/signup/cold-join?session_redirect=https%3A%2F%2Fwww.linkedin.com%2Fposts%2Fpreeti-shukla-3756268_hiring-activity-7135478741039800320-fB4x&amp;trk=public_post_main-feed-card_comment-cta\n",
            "https://www.linkedin.com/signup/cold-join?session_redirect=https%3A%2F%2Fwww.linkedin.com%2Fposts%2Fpreeti-shukla-3756268_hiring-activity-7135478741039800320-fB4x&trk=public_post_main-feed-card_feed-cta-banner-cta\n",
            "https://www.linkedin.com/signup/cold-join?session_redirect=https%3A%2F%2Fwww%2Elinkedin%2Ecom%2Fin%2Fpreeti-shukla-3756268%2Frecent-activity%2F&amp;trk=public_post_follow-posts\n",
            "https://in.linkedin.com/in/preeti-shukla-3756268?trk=public_post_follow-view-profile\n",
            "https://www.linkedin.com/signup/cold-join?session_redirect=https%3A%2F%2Fwww%2Elinkedin%2Ecom%2Ffeed%2Fupdate%2Furn%3Ali%3Aactivity%3A7155585340932530176&amp;trk=public_post_follow\n",
            "https://www.linkedin.com/pulse/topics/sales-s5/\n",
            "https://www.linkedin.com/pulse/topics/marketing-s2461/\n",
            "https://www.linkedin.com/pulse/topics/business-administration-s50111/\n",
            "https://www.linkedin.com/pulse/topics/hr-management-s50359/\n",
            "https://www.linkedin.com/pulse/topics/content-management-s3932/\n",
            "https://www.linkedin.com/pulse/topics/engineering-s166/\n",
            "https://www.linkedin.com/pulse/topics/soft-skills-s2976/\n",
            "https://www.linkedin.com/pulse/topics/home/\n",
            "https://about.linkedin.com?trk=d_public_post_footer-about\n",
            "https://www.linkedin.com/accessibility?trk=d_public_post_footer-accessibility\n",
            "https://www.linkedin.com/legal/user-agreement?trk=d_public_post_footer-user-agreement\n",
            "https://www.linkedin.com/legal/privacy-policy?trk=d_public_post_footer-privacy-policy\n",
            "https://www.linkedin.com/legal/california-privacy-disclosure?trk=d_public_post_footer-california-privacy-rights-act\n",
            "https://www.linkedin.com/legal/cookie-policy?trk=d_public_post_footer-cookie-policy\n",
            "https://www.linkedin.com/legal/copyright-policy?trk=d_public_post_footer-copyright-policy\n",
            "https://brand.linkedin.com/policies?trk=d_public_post_footer-brand-policy\n",
            "https://www.linkedin.com/psettings/guest-controls?trk=d_public_post_footer-guest-controls\n",
            "https://www.linkedin.com/legal/professional-community-policies?trk=d_public_post_footer-community-guide\n",
            "https://www.linkedin.com/uas/request-password-reset?trk=public_post_contextual-sign-in-modal_sign-in-modal_forgot_password\n",
            "https://www.linkedin.com/signup/cold-join?session_redirect=https%3A%2F%2Fwww%2Elinkedin%2Ecom%2Fposts%2Fpreeti-shukla-3756268_hello-everyone-today-i-want-to-address-activity-7155585340932530176-8XZ8&trk=public_post_contextual-sign-in-modal_sign-in-modal_join-link\n",
            "https://www.linkedin.com/signup/cold-join?session_redirect=https%3A%2F%2Fwww%2Elinkedin%2Ecom%2Fposts%2Fpreeti-shukla-3756268_hello-everyone-today-i-want-to-address-activity-7155585340932530176-8XZ8&trk=public_post_contextual-sign-in-modal_join-link\n"
          ]
        }
      ]
    },
    {
      "cell_type": "code",
      "source": [
        "if __name__ == \"__main__\":\n",
        "    main()"
      ],
      "metadata": {
        "colab": {
          "base_uri": "https://localhost:8080/"
        },
        "id": "teYoqapzHoww",
        "outputId": "4b45dc45-24c1-4ba0-c0c6-53e49e185f86"
      },
      "execution_count": 27,
      "outputs": [
        {
          "output_type": "stream",
          "name": "stdout",
          "text": [
            "Enter your URL with https://https://www.youtube.com/watch?v=_aH1_VUhT9Y\n",
            "What do you want to see on the website? (1: Title, 2: Body, 3: Links): 1\n",
            "Title: LIVE | Ayodhya Ram Mandir Inauguration Ceremony | PM Modi Speech | Latest News - YouTube\n"
          ]
        }
      ]
    },
    {
      "cell_type": "code",
      "source": [
        "if __name__ == \"__main__\":\n",
        "    main()"
      ],
      "metadata": {
        "colab": {
          "base_uri": "https://localhost:8080/"
        },
        "id": "HU-9VFhYHtg4",
        "outputId": "5955565e-dbcc-492c-e663-411ac87a0cb1"
      },
      "execution_count": 28,
      "outputs": [
        {
          "output_type": "stream",
          "name": "stdout",
          "text": [
            "Enter your URL with https://https://www.youtube.com/watch?v=_aH1_VUhT9Y\n",
            "What do you want to see on the website? (1: Title, 2: Body, 3: Links): 2\n",
            "No body content found.\n"
          ]
        }
      ]
    },
    {
      "cell_type": "code",
      "source": [
        "if __name__ == \"__main__\":\n",
        "    main()"
      ],
      "metadata": {
        "colab": {
          "base_uri": "https://localhost:8080/"
        },
        "id": "CRPj42UqIb2f",
        "outputId": "816c93e3-786e-4a4d-f7f4-49d54cdb24bd"
      },
      "execution_count": 31,
      "outputs": [
        {
          "output_type": "stream",
          "name": "stdout",
          "text": [
            "Enter your URL with https://https://www.youtube.com/watch?v=_aH1_VUhT9Y\n",
            "What do you want to see on the website? (1: Title, 2: Body, 3: Links): 3\n",
            "https://www.youtube.com/s/desktop/6148f390/img/favicon.ico\n",
            "https://www.youtube.com/s/desktop/6148f390/img/favicon_32x32.png\n",
            "https://www.youtube.com/s/desktop/6148f390/img/favicon_48x48.png\n",
            "https://www.youtube.com/s/desktop/6148f390/img/favicon_96x96.png\n",
            "https://www.youtube.com/s/desktop/6148f390/img/favicon_144x144.png\n",
            "https://www.youtube.com/s/desktop/6148f390/cssbin/www-main-desktop-watch-page-skeleton.css\n",
            "https://www.youtube.com/s/desktop/6148f390/cssbin/www-main-desktop-player-skeleton.css\n",
            "https://www.youtube.com/s/desktop/6148f390/cssbin/www-onepick.css\n",
            "https://www.youtube.com/s/_/ytmainappweb/_/ss/k=ytmainappweb.kevlar_base.Zcag2OJPycY.L.X.O/am=ABAK/d=0/rs=AGKMywEw0edPejLgkklw-5guckt9Vcnqlg\n",
            "https://www.youtube.com/opensearch?locale=en_US\n",
            "https://www.youtube.com/watch?v=_aH1_VUhT9Y\n",
            "https://m.youtube.com/watch?v=_aH1_VUhT9Y\n",
            "https://m.youtube.com/watch?v=_aH1_VUhT9Y\n",
            "https://youtu.be/_aH1_VUhT9Y\n",
            "https://www.youtube.com/oembed?format=json&amp;url=https%3A%2F%2Fwww.youtube.com%2Fwatch%3Fv%3D_aH1_VUhT9Y\n",
            "https://www.youtube.com/oembed?format=xml&amp;url=https%3A%2F%2Fwww.youtube.com%2Fwatch%3Fv%3D_aH1_VUhT9Y\n",
            "https://i.ytimg.com/vi/_aH1_VUhT9Y/maxresdefault.jpg\n",
            "https://www.youtube.com/watch?v=_aH1_VUhT9Y\n",
            "http://www.youtube.com/@moneycontrol\n",
            "https://i.ytimg.com/vi/_aH1_VUhT9Y/maxresdefault.jpg\n",
            "https://i.ytimg.com/vi/_aH1_VUhT9Y/maxresdefault.jpg\n",
            "https://www.youtube.com/embed/_aH1_VUhT9Y\n",
            "https://www.youtube.com/about/\n",
            "https://www.youtube.com/about/press/\n",
            "https://www.youtube.com/about/copyright/\n",
            "https://www.youtube.com/creators/\n",
            "https://www.youtube.com/ads/\n",
            "https://developers.google.com/youtube\n",
            "https://www.youtube.com/about/policies/\n",
            "https://www.youtube.com/howyoutubeworks?utm_campaign=ytgen&amp;utm_source=ythp&amp;utm_medium=LeftNav&amp;utm_content=txt&amp;u=https%3A%2F%2Fwww.youtube.com%2Fhowyoutubeworks%3Futm_source%3Dythp%26utm_medium%3DLeftNav%26utm_campaign%3Dytgen\n",
            "https://tv.youtube.com/learn/nflsundayticket\n"
          ]
        }
      ]
    }
  ]
}